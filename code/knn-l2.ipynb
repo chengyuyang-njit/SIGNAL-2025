{
 "cells": [
  {
   "cell_type": "code",
   "execution_count": 2,
   "metadata": {},
   "outputs": [],
   "source": [
    "import numpy as np\n",
    "import os\n",
    "from PIL import Image"
   ]
  },
  {
   "cell_type": "code",
   "execution_count": 3,
   "metadata": {},
   "outputs": [],
   "source": [
    "# training data path\n",
    "\n",
    "train_normal_path = \"./../../../datasets/rosacea-detection/train/normal\"\n",
    "train_rosacea_path = \"./../../../datasets/rosacea-detection/train/rosacea\""
   ]
  },
  {
   "cell_type": "code",
   "execution_count": null,
   "metadata": {},
   "outputs": [
    {
     "name": "stdout",
     "output_type": "stream",
     "text": [
      "Loading X_normal....\n",
      "0th normal loaded\n",
      "1th normal loaded\n",
      "2th normal loaded\n",
      "3th normal loaded\n",
      "4th normal loaded\n",
      "5th normal loaded\n",
      "6th normal loaded\n"
     ]
    }
   ],
   "source": [
    "X_normal = np.zeros((512 * 512 * 3, 500))\n",
    "X_rosacea = np.zeros((512 * 512 * 3, 250))\n",
    "\n",
    "print(\"Loading X_normal....\")\n",
    "for i, filename in zip(range(500),os.listdir(train_normal_path)):\n",
    "    filepath = os.path.join(train_normal_path, filename)\n",
    "    img = (np.array(Image.open(filepath)) / 255.).flatten()\n",
    "    X_normal[:, i] = img.copy()\n",
    "    print(f\"{i}th normal loaded\")\n",
    "print(f\"X_normal loaded, shape of {np.shape(X_normal)}\")\n",
    "\n",
    "print(\"Loadiing X_rosacea....\")\n",
    "for i, filename in zip(range(250),os.listdir(train_rosacea_path)):\n",
    "    filepath = os.path.join(train_rosacea_path, filename)\n",
    "    img = (np.array(Image.open(filepath)) / 255.).flatten()\n",
    "    X_rosacea[:, i] = img.copy()\n",
    "    print(f\"{i}th rosacea loaded\")\n",
    "print(f\"X_rosacea loaded, shape of {np.shape(X_rosacea)}\")\n",
    "\n",
    "\n"
   ]
  }
 ],
 "metadata": {
  "kernelspec": {
   "display_name": "Python 3",
   "language": "python",
   "name": "python3"
  },
  "language_info": {
   "codemirror_mode": {
    "name": "ipython",
    "version": 3
   },
   "file_extension": ".py",
   "mimetype": "text/x-python",
   "name": "python",
   "nbconvert_exporter": "python",
   "pygments_lexer": "ipython3",
   "version": "3.12.7"
  }
 },
 "nbformat": 4,
 "nbformat_minor": 2
}
