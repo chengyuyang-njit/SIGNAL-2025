{
 "cells": [
  {
   "cell_type": "code",
   "execution_count": 2,
   "metadata": {},
   "outputs": [],
   "source": [
    "import numpy as np\n",
    "import os\n",
    "from PIL import Image\n",
    "import helper\n",
    "import json\n",
    "from sklearn.neighbors import KNeighborsClassifier"
   ]
  },
  {
   "cell_type": "code",
   "execution_count": 3,
   "metadata": {},
   "outputs": [],
   "source": [
    "# training data path\n",
    "\n",
    "train_normal_path = \"./../../../datasets/rosacea-detection/train/normal\"\n",
    "train_rosacea_path = \"./../../../datasets/rosacea-detection/train/rosacea\""
   ]
  },
  {
   "cell_type": "code",
   "execution_count": 4,
   "metadata": {},
   "outputs": [
    {
     "name": "stdout",
     "output_type": "stream",
     "text": [
      "Loading X_normal....\n",
      "X_normal loaded, shape of (786432, 500)\n",
      "Loading X_rosacea....\n",
      "X_rosacea loaded, shape of (786432, 250)\n"
     ]
    }
   ],
   "source": [
    "X_normal = np.zeros((512 * 512 * 3, 500))\n",
    "X_rosacea = np.zeros((512 * 512 * 3, 250))\n",
    "\n",
    "print(\"Loading X_normal....\")\n",
    "for i, filename in zip(range(500),os.listdir(train_normal_path)):\n",
    "    filepath = os.path.join(train_normal_path, filename)\n",
    "    img = (np.array(Image.open(filepath)) ).flatten()\n",
    "    X_normal[:, i] = img.copy()\n",
    "    # print(f\"{i}th normal loaded\")\n",
    "print(f\"X_normal loaded, shape of {np.shape(X_normal)}\")\n",
    "\n",
    "print(\"Loading X_rosacea....\")\n",
    "for i, filename in zip(range(250),os.listdir(train_rosacea_path)):\n",
    "    filepath = os.path.join(train_rosacea_path, filename)\n",
    "    img = (np.array(Image.open(filepath)) ).flatten()\n",
    "    X_rosacea[:, i] = img.copy()\n",
    "    # print(f\"{i}th rosacea loaded\")\n",
    "print(f\"X_rosacea loaded, shape of {np.shape(X_rosacea)}\")"
   ]
  },
  {
   "cell_type": "code",
   "execution_count": 5,
   "metadata": {},
   "outputs": [
    {
     "name": "stdout",
     "output_type": "stream",
     "text": [
      "(750, 786432)\n"
     ]
    }
   ],
   "source": [
    "X_train = np.hstack((X_normal, X_rosacea)).transpose()\n",
    "print(np.shape(X_train))"
   ]
  },
  {
   "cell_type": "code",
   "execution_count": null,
   "metadata": {},
   "outputs": [],
   "source": [
    "from sklearn.preprocessing import StandardScaler\n",
    "\n",
    "sc = StandardScaler()\n",
    "sc.fit(X_train)\n",
    "X_train_std = sc.transform(X_train)"
   ]
  },
  {
   "cell_type": "code",
   "execution_count": null,
   "metadata": {},
   "outputs": [],
   "source": [
    "Y_train = np.zeros(750)\n",
    "Y_train[500:] = 1\n",
    "# normal is 0\n",
    "# rosacea is 1"
   ]
  },
  {
   "cell_type": "code",
   "execution_count": null,
   "metadata": {},
   "outputs": [],
   "source": [
    "val_normal_path = \"./../../../datasets/rosacea-detection/val/normal\"\n",
    "val_rosacea_path = \"./../../../datasets/rosacea-detection/val/rosacea\"\n",
    "test_normal_path = \"./../../../datasets/rosacea-detection/test/normal\"\n",
    "test_rosacea_path = \"./../../../datasets/rosacea-detection/test/rosacea\"\n",
    "\n",
    "for k in {1,2,3,4,5,6,7,8,9,10,11,12,13,14,15}:\n",
    "    knn = KNeighborsClassifier(n_neighbors = k, metric = 'cosine')\n",
    "    knn.fit(X_train_std, Y_train)\n",
    "    TP_v, TN_v, FP_v, FN_v = 0, 0, 0, 0\n",
    "    TP_t, TN_t, FP_t, FN_t = 0, 0, 0, 0\n",
    "    count = 0\n",
    "    print(f\"k is {k}\")\n",
    "    # Validation\n",
    "    for filename in os.listdir(val_normal_path):\n",
    "        file_path = os.path.join(val_normal_path, filename)\n",
    "        sample = np.array(Image.open(file_path)) \n",
    "        if knn.predict(sc.transform(sample.flatten().reshape(1, -1))) == 0:\n",
    "            TN_v += 1\n",
    "        else:\n",
    "            FP_v += 1\n",
    "        count += 1\n",
    "        print(count)\n",
    "\n",
    "    for filename in os.listdir(test_rosacea_path):\n",
    "        file_path = os.path.join(test_rosacea_path, filename)\n",
    "        sample = np.array(Image.open(file_path)) \n",
    "        if knn.predict(sc.transform(sample.flatten().reshape(1, -1))) == 0:\n",
    "            FN_v += 1\n",
    "        else:\n",
    "            TP_v += 1\n",
    "        count += 1\n",
    "        print(count)\n",
    "        \n",
    "    # Test\n",
    "    for filename in os.listdir(test_normal_path):\n",
    "        file_path = os.path.join(test_normal_path, filename)\n",
    "        sample = np.array(Image.open(file_path)) \n",
    "        if knn.predict(sc.transform(sample.flatten().reshape(1, -1))) == 0:\n",
    "            TN_t += 1\n",
    "        else:\n",
    "            FP_t += 1\n",
    "        count += 1\n",
    "        print(count)\n",
    "        \n",
    "    for filename in os.listdir(test_rosacea_path):\n",
    "        file_path = os.path.join(test_rosacea_path, filename)\n",
    "        sample = np.array(Image.open(file_path)) \n",
    "        if knn.predict(sc.transform(sample.flatten().reshape(1, -1))) == 0:\n",
    "            FN_t += 1\n",
    "        else:\n",
    "            TP_t += 1\n",
    "        count += 1\n",
    "        print(count)\n",
    "    # Output result\n",
    "    accuracy_v, precision_v, recall_v, F1_v = helper.get_performance_metrics(\n",
    "        TP_v, TN_v, FP_v, FN_v)\n",
    "    \n",
    "    accuracy_t, precision_t, recall_t, F1_t = helper.get_performance_metrics(\n",
    "        TP_t, TN_t, FP_t, FN_t)\n",
    "\n",
    "    result = {\n",
    "        \"unequal\" : 1,\n",
    "        \"n_neighbors\" :k,\n",
    "        \"metric\" : \"cosine\",\n",
    "        \"p\" : None,\n",
    "        \"TN_v\" : TN_v,\n",
    "        \"TP_v\" : TP_v,\n",
    "        \"FP_v\" : FP_v,\n",
    "        \"FN_v\" : FN_v,\n",
    "        \"accuracy_v\" : accuracy_v,\n",
    "        \"precision_v\" : precision_v,\n",
    "        \"recall_v\" : recall_v,\n",
    "        \"F1_v\" : F1_v,\n",
    "\n",
    "        \"TN_t\" : TN_t,\n",
    "        \"TP_t\" : TP_t,\n",
    "        \"FP_t\" : FP_t,\n",
    "        \"FN_t\" : FN_t,\n",
    "        \"accuracy_t\" : accuracy_t,\n",
    "        \"precision_t\" : precision_t,\n",
    "        \"recall_t\" : recall_t,\n",
    "        \"F1_t\" : F1_t\n",
    "    }\n",
    "\n",
    "    json_object = json.dumps(result, indent = 4)\n",
    "\n",
    "    # writing to file\n",
    "    # json_name = \"p=\"+str(p)+\"-n_neighbors=\" + str(k)+\".json\"\n",
    "    json_name = f\"knn-metric-cosine-n_neighbors={k}.json\"\n",
    "    json_path = os.path.join(\"./../results\",json_name)\n",
    "    with open(json_path,'w') as outfile:\n",
    "        outfile.write(json_object)\n"
   ]
  }
 ],
 "metadata": {
  "kernelspec": {
   "display_name": "py39",
   "language": "python",
   "name": "python3"
  },
  "language_info": {
   "codemirror_mode": {
    "name": "ipython",
    "version": 3
   },
   "file_extension": ".py",
   "mimetype": "text/x-python",
   "name": "python",
   "nbconvert_exporter": "python",
   "pygments_lexer": "ipython3",
   "version": "3.9.19"
  }
 },
 "nbformat": 4,
 "nbformat_minor": 2
}
